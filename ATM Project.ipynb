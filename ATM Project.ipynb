{
 "cells": [
  {
   "cell_type": "code",
   "execution_count": null,
   "id": "2e180894",
   "metadata": {},
   "outputs": [],
   "source": [
    "#programming first question..\n",
    "M=input (\" Enter movie name\")\n",
    "adlt= input(\"ticket price of adult\")\n",
    "chld=input(\"ticket price of child\")\n",
    "A=input(\"tickets sold for adults\")\n",
    "C= input(\"tickets sold for child\")\n",
    "P= input(\"enter percentage you want to donate\")\n",
    "#calculation\n",
    "tkt= int (A)+int(C)\n",
    "gras=int(adlt)*int(A)+int(chld)*int(C)\n",
    "donated=int(gras)*int(P)/int(100)\n",
    "Net=int(gras)-int(donated)\n",
    "#finall output..\n",
    "print( \"movie name....................\",M)\n",
    "print(\"ticket price of child and adult............\",tkt)\n",
    "print(\"totall amount i got.......\", gras)\n",
    "print(\"percentage to donate .................\",P)\n",
    "print(\"amount donated.......\", donated)\n",
    "print(\"finall balance..........\",Net)"
   ]
  },
  {
   "cell_type": "code",
   "execution_count": null,
   "id": "f120bc3e",
   "metadata": {},
   "outputs": [],
   "source": [
    "a=5\n",
    "print(\"sunil\",a)"
   ]
  },
  {
   "cell_type": "code",
   "execution_count": 21,
   "id": "e2614339",
   "metadata": {},
   "outputs": [
    {
     "name": "stdout",
     "output_type": "stream",
     "text": [
      "welcome to cable billing /n there r two types of customers 1.resedential customers...2.bussiness customers...Enter 1 for resedential and 0 for business class...........\n",
      "Enter account number.......123456789\n",
      "12\n",
      "25\n",
      "wrong input\n"
     ]
    }
   ],
   "source": [
    "#NEW PROGRAM FOR CABLE CALCULATING.....\n",
    "print(\"welcome to cable billing /n there r two types of customers 1.resedential customers...2.bussiness customers...Enter 1 for resedential and 0 for business class...........\")\n",
    "A=input(\"Enter account number.......\")\n",
    "R=input()\n",
    "B=input()\n",
    "if(R==1):\n",
    "    fee=4.50\n",
    "    Basic=20.50\n",
    "    num =input()\n",
    "    premium=7.50\n",
    "    due=float(fee)+float(Basic)+float(num)*float(premium)\n",
    "elif(B==0):\n",
    "    processfee=15.50\n",
    "    basic=75.00\n",
    "    connections=input()\n",
    "    oneconnectioncost=5.00\n",
    "    numofpremium =input()\n",
    "    premiumcost=50.00\n",
    "    if(connections<=10):\n",
    "        due=processfee+basic+numofpremium*premiumcost\n",
    "    elif(connectios>10):\n",
    "        due2=processfee+basic+connections*oneconnectioncost+numofpremium*premiumcost\n",
    "else:\n",
    "    print(\"wrong input\")"
   ]
  },
  {
   "cell_type": "code",
   "execution_count": null,
   "id": "b58a8950",
   "metadata": {},
   "outputs": [],
   "source": [
    "#input from user if he is 18 he can elgible for vote if not tell him to come after 2 years..\n",
    "print(\" This program is to know is your eligible for voting r not....\")\n",
    "a=int(input())\n",
    "if(a>int(18)):\n",
    "    print(\"you have\",a,\"you are eligibile for voting....\")\n",
    "    print(\" you are above 18 years now your the major....\")\n",
    "else:\n",
    "    print(\"sorry you r not eligible for voting , Becauseuou have only\",a,\"years please come back after you got 18 years\")"
   ]
  },
  {
   "cell_type": "code",
   "execution_count": null,
   "id": "2556267d",
   "metadata": {},
   "outputs": [],
   "source": [
    "#real life example of dictionary....... \n",
    "#To know the medicines for different diseses and where those present.....\n",
    "name={\n",
    "    \"cough\":2 ,\n",
    "    \"fever\":3,\n",
    "    \"cold\":4,\n",
    "    \"head ache\":5\n",
    "}\n",
    "print(name[\"cough\"])"
   ]
  },
  {
   "cell_type": "code",
   "execution_count": null,
   "id": "891bcbf5",
   "metadata": {},
   "outputs": [],
   "source": [
    "#written a program to check its a vowel r constant.\n",
    "vowel=str(input())\n",
    "if(vowel==\"A\"or vowel==\"a\"or vowel==\"E\"or vowel==\"e\"\n",
    "   or vowel==\"I\"or vowel==\"i\"or vowel==\"O\"or vowel==\"o\"\n",
    "   or vowel==\"U\"or vowel==\"u\"):\n",
    "    print(\"you enterd\\n\",vowel,\"it is an a vowel\")\n",
    "else:\n",
    "    print(\"its is a constant\")"
   ]
  },
  {
   "cell_type": "code",
   "execution_count": 1,
   "id": "51074a67",
   "metadata": {},
   "outputs": [
    {
     "name": "stdout",
     "output_type": "stream",
     "text": [
      "46\n",
      "The temparature you enterd 46 'c and the final temparature in faren hits are 319 F\n"
     ]
    }
   ],
   "source": [
    "#program to convert temparatute into farenhits..\n",
    "\n",
    "tem=(int(input()))\n",
    "far=(int(tem)+int(273))\n",
    "\n",
    "print(\"The temparature you enterd\",tem,\"'c and the final temparature in faren hits are\",far,\"F\")"
   ]
  },
  {
   "cell_type": "code",
   "execution_count": 1,
   "id": "5c92c9e6",
   "metadata": {},
   "outputs": [
    {
     "name": "stdout",
     "output_type": "stream",
     "text": [
      "model:FORTUNER color:white price:5Lakhs engine 1300cc and power 35Hp speed 240km/h \n"
     ]
    }
   ],
   "source": [
    "#To store the car models and pricces ina dict if we just enterd model we can get totall details...\n",
    "cars={\n",
    "    \"maruthi\":\"model: nano color:red price 50000 engine 800cc power 20hp top speed 120km/h\",\n",
    "    \"mahindra\":\"model:thar color:black price 2Lakhs engine 1200Cc and power 35Hp speed 180km/h\",\n",
    "    \"toyota\":\"model:FORTUNER color:white price:5Lakhs engine 1300cc and power 35Hp speed 240km/h \"\n",
    "}\n",
    "print(cars[\"toyota\"])"
   ]
  },
  {
   "cell_type": "code",
   "execution_count": 2,
   "id": "096dd979",
   "metadata": {},
   "outputs": [
    {
     "name": "stdout",
     "output_type": "stream",
     "text": [
      "359\n",
      "71.8\n"
     ]
    }
   ],
   "source": [
    "#To  calculate total marks by using tuple......\n",
    "marks=(50,60,70,80,99)\n",
    "total=sum(list(marks))#the command to add a tuple\n",
    "per=(total/500*100)\n",
    "print (total)\n",
    "print(per)"
   ]
  },
  {
   "cell_type": "code",
   "execution_count": null,
   "id": "a2de74e6",
   "metadata": {},
   "outputs": [],
   "source": [
    "#\n",
    "12\n",
    "123\n",
    "1234\n",
    "12345B\\"
   ]
  },
  {
   "cell_type": "code",
   "execution_count": 13,
   "id": "398b9006",
   "metadata": {},
   "outputs": [
    {
     "name": "stdout",
     "output_type": "stream",
     "text": [
      "&\r\n",
      "&&\r\n",
      "&&&\r\n",
      "&&&&\r\n",
      "&&&&&\r\n",
      "&&&&&&\r\n"
     ]
    }
   ],
   "source": [
    "#FULL PYRAMID\n",
    "for i in range(6):\n",
    "    for j in range( i+1):\n",
    "        print(\"&\",end=\"\")\n",
    "    print(\"\\r\")"
   ]
  },
  {
   "cell_type": "code",
   "execution_count": 21,
   "id": "6bd4dfb7",
   "metadata": {},
   "outputs": [
    {
     "name": "stdout",
     "output_type": "stream",
     "text": [
      "Enter number of rows: 8\n",
      "A \n",
      "\n",
      "B B \n",
      "\n",
      "C C C \n",
      "\n",
      "D D D D \n",
      "\n",
      "E E E E E \n",
      "\n",
      "F F F F F F \n",
      "\n",
      "G G G G G G G \n",
      "\n",
      "H H H H H H H H \n",
      "\n"
     ]
    }
   ],
   "source": [
    "rows = int(input(\"Enter number of rows: \"))\n",
    "\n",
    "ascii_value = 65\n",
    "\n",
    "for i in range(rows):\n",
    "    for j in range(i+1):\n",
    "        alphabet = chr(ascii_value)\n",
    "        print(alphabet, end=\" \")\n",
    "    \n",
    "    ascii_value += 1\n",
    "    print(\"\\n\")\n"
   ]
  },
  {
   "cell_type": "code",
   "execution_count": 16,
   "id": "99c6b038",
   "metadata": {},
   "outputs": [
    {
     "name": "stdout",
     "output_type": "stream",
     "text": [
      "*****\n",
      "\n",
      "****\n",
      "\n",
      "***\n",
      "\n",
      "**\n",
      "\n",
      "*\n",
      "\n"
     ]
    }
   ],
   "source": [
    "for i in range (5):\n",
    "    for j in range(5-i):\n",
    "        print(\"*\",end=\"\")\n",
    "    print(\"\\n\")"
   ]
  },
  {
   "cell_type": "code",
   "execution_count": 19,
   "id": "8a9510c5",
   "metadata": {},
   "outputs": [
    {
     "name": "stdout",
     "output_type": "stream",
     "text": [
      "% % % % % \n",
      "\n",
      "% % % % \n",
      "\n",
      "% % % \n",
      "\n",
      "% % \n",
      "\n",
      "% \n",
      "\n"
     ]
    }
   ],
   "source": [
    "i=1\n",
    "while(i<=5):\n",
    "    j=5\n",
    "    while(j>=i):\n",
    "        print(\"%\", end = \" \")\n",
    "        j-=1\n",
    "    print(\"\\n\")\n",
    "    i+=1\n",
    "    "
   ]
  },
  {
   "cell_type": "code",
   "execution_count": 1,
   "id": "baeaad3e",
   "metadata": {},
   "outputs": [
    {
     "name": "stdout",
     "output_type": "stream",
     "text": [
      "Enter number of rows : 5\n",
      "* \n",
      "* * \n",
      "* * * \n",
      "* * * * \n",
      "* * * * * \n"
     ]
    }
   ],
   "source": [
    "n = int(input('Enter number of rows : '))\n",
    " \n",
    "i = 1\n",
    "while i <= n :\n",
    "    j = 1\n",
    "    while j <= i:\n",
    "        print(\"*\", end = \" \")\n",
    "        j += 1\n",
    "    print()\n",
    "    i += 1"
   ]
  },
  {
   "cell_type": "code",
   "execution_count": 20,
   "id": "a8ed96bc",
   "metadata": {},
   "outputs": [
    {
     "name": "stdout",
     "output_type": "stream",
     "text": [
      "13 x 1 = 13\n",
      "13 x 2 = 26\n",
      "13 x 3 = 39\n",
      "13 x 4 = 52\n",
      "13 x 5 = 65\n",
      "13 x 6 = 78\n",
      "13 x 7 = 91\n",
      "13 x 8 = 104\n",
      "13 x 9 = 117\n",
      "13 x 10 = 130\n"
     ]
    }
   ],
   "source": [
    "y=int(13)\n",
    "for  i in range (1,11):\n",
    "    print( y ,'x', i , '=',y*i)"
   ]
  },
  {
   "cell_type": "code",
   "execution_count": 2,
   "id": "411a0b63",
   "metadata": {},
   "outputs": [
    {
     "name": "stdout",
     "output_type": "stream",
     "text": [
      "11 x 1 = 11\n",
      "11 x 2 = 22\n",
      "11 x 3 = 33\n",
      "11 x 4 = 44\n",
      "11 x 5 = 55\n",
      "11 x 6 = 66\n",
      "11 x 7 = 77\n",
      "11 x 8 = 88\n",
      "11 x 9 = 99\n",
      "11 x 10 = 110\n"
     ]
    }
   ],
   "source": [
    "T=(11)\n",
    "y=(10)\n",
    "i=(1)\n",
    "while(i<=y):\n",
    "    print(T,'x', i, '=',T*i)\n",
    "    i=i+1"
   ]
  },
  {
   "cell_type": "code",
   "execution_count": 4,
   "id": "e00d211d",
   "metadata": {},
   "outputs": [
    {
     "name": "stdout",
     "output_type": "stream",
     "text": [
      "Enter the table :5\n",
      "Enter the starting number : 7\n",
      "Enter the limit :8\n",
      "7 * 5 = 35\n",
      "8 * 5 = 40\n"
     ]
    }
   ],
   "source": [
    "table   =int(input(\"Enter the table :\"))\n",
    "asstart   =int(input(\"Enter the starting number : \"))\n",
    "limit   =int(input(\"Enter the limit :\"))\n",
    "while(start<=limit):\n",
    "  print(start,\"*\",table,\"=\",start*table)\n",
    "  start=start+1"
   ]
  },
  {
   "cell_type": "markdown",
   "id": "7fff5c73",
   "metadata": {},
   "source": [
    "# ATM printing authoritecation\n",
    "card_nums = [\"1234-5678-8976\", \"1234-5674-7824\", \"1234-2263-1627-1572\", \"1628-2618-2739-2626\", \"2357-2792-2368-2387\",\n",
    "            \"6754-8253-9999-1726\", \"1111-1111-1111-1111\", \"2222-2222-2222-2222\", \"3333-3333-3333-3333\", \"4444-4444-4444-4444\"\n",
    "            \"5555-5555-5555-5555\"]\n",
    "pin_codes = [\"1234\", \"3456\", \"7890\", \"5678\", \"6782\", \n",
    "             \"3467\", \"1111\", \"2222\", \"3333\", \"4444\",\n",
    "            \"5555\"]\n",
    "ph_nos = [\"123456789\", \"238719075\", \"456782659\", \"987654323\", \"987678956\",\n",
    "         \"567345857\", \"263764892\", \"456237019\", \"236790126\", \"12673496745\", \n",
    "          \"129856739\"]\n",
    "balances = [20000, 786192, 47925638, 5674, 1009, \n",
    "            2575, 162975, 18976, 2796, 78654, 12999]\n",
    "\n",
    "import time\n",
    "\n",
    "def atm_project():\n",
    "    \n",
    "    print(\"Welcome to Bank #1, \\nPlease enter the following details: \")\n",
    "    acc_number = input(\"\\nCredit/Debit card number: \")\n",
    "    \n",
    "    # unregistered acc/card number\n",
    "    if acc_number not in card_nums: \n",
    "        print(\"INVALID NUMBER\")\n",
    "        return\n",
    "    \n",
    "    i = card_nums.index(acc_number)\n",
    "    trials = 3\n",
    "    pin = input(\"Pin code: \")  \n",
    "    \n",
    "    # wrong pin code\n",
    "    while pin != pin_codes[i] and trials > 0:\n",
    "        trials -= 1\n",
    "        if trials == 0:\n",
    "            print(\"\\nNOTICE: You have entered the wrong pin too many times. Your account will now be locked temporarily. Please contact the bank if this is a misunderstanding.\")\n",
    "            return\n",
    "        print(f\"\\nInvalid pin. You have {trials} trials left!\")\n",
    "        pin = input(\"Re-enter pin code: \")\n",
    "    \n",
    "    # pin code incorrect too many times\n",
    "    \n",
    "    \n",
    "    # correct pin code and account number\n",
    "    choice = int(input(\"\\nWhat would you like to do? \\n1. Deposit \\n2. Withdrawal \\n3. Check balance \\n4. Change pin code\\n\"))\n",
    "    \n",
    "    # various tasks depending on the choice\n",
    "    if choice == 1:\n",
    "        dep = int(input(\"\\nHow much do you want to deposit?\"))\n",
    "        balances[i] += dep\n",
    "        \n",
    "        time.sleep(0.4)\n",
    "        print(\"\\nprocessing...\")\n",
    "        time.sleep(1.8)\n",
    "        \n",
    "        print(f\"\\nAmount successfully deposited! \\nYour current balance is {balances[i]}. \\nThank you for using our ATM.\\nHave a nice day!\")\n",
    "        return\n",
    "    \n",
    "    elif choice == 2:\n",
    "        withd = int(input(\"\\nHow much do you want to withdraw?\"))\n",
    "        \n",
    "        while withd > balances[i]:\n",
    "            choice2 = int(input(\"Insufficient funds. \\nDo you want to cease the task or withdraw another amount? (Enter [1] for cease task or [2] for withdraw another ampunt): \"))            \n",
    "            if choice2 == 1: \n",
    "                print(\"The task is cancelled. \\nThank you for using Our ATM. \\nHave a nice day!\")\n",
    "                return\n",
    "            else: withd = int(input(\"\\nHow much do you want to withdraw?\"))\n",
    "        \n",
    "        balances[i] -= withd\n",
    "        \n",
    "        time.sleep(0.4)\n",
    "        print(\"\\nprocessing...\")\n",
    "        time.sleep(1.8)\n",
    "        \n",
    "        print(f\"\\nAmount successfully withdrawn! \\nYour current balance is {balances[i]}. \\nThank you for using our ATM.\\nHave a nice day!\")\n",
    "        return\n",
    "    \n",
    "    elif choice == 3:\n",
    "        time.sleep(0.4)\n",
    "        print(\"\\nprocessing...\")\n",
    "        time.sleep(0.8)\n",
    "        print(f\"\\nYour current balance is {balances[i]}.\\nThank you for using our ATM.\\nHave a nice day!\")\n",
    "        \n",
    "    elif choice == 4:\n",
    "        temp = int(input(\"\\nEnter your new pin:\"))\n",
    "        check = int(input(\"\\nAre you sure you want to change your pin number to this? (1:yes or 0:no): \"))\n",
    "        \n",
    "        if check == 0: \n",
    "            print(\"\\nTask successfully cancelled. \\nThank you for using our ATM.\\nHave a nice day!\")\n",
    "            return\n",
    "            \n",
    "        pin_codes[i] = temp\n",
    "        \n",
    "        time.sleep(0.2)\n",
    "        print(\"\\nprocessing...\")\n",
    "        time.sleep(1.8)\n",
    "        print(f\"\\nYour pin has successfully changed.\\nThank you for using our ATM.\\nHave a nice day!\")\n",
    "    else: print(\"INVALID CHOICE.\")\n",
    "        \n",
    "atm_project()"
   ]
  },
  {
   "cell_type": "code",
   "execution_count": 1,
   "id": "596b376e",
   "metadata": {},
   "outputs": [
    {
     "ename": "IndentationError",
     "evalue": "expected an indented block (<ipython-input-1-09dce5f2da61>, line 10)",
     "output_type": "error",
     "traceback": [
      "\u001b[1;36m  File \u001b[1;32m\"<ipython-input-1-09dce5f2da61>\"\u001b[1;36m, line \u001b[1;32m10\u001b[0m\n\u001b[1;33m    print(\"Welcome to Bank #1, \\nPlease enter the following details: \")\u001b[0m\n\u001b[1;37m    ^\u001b[0m\n\u001b[1;31mIndentationError\u001b[0m\u001b[1;31m:\u001b[0m expected an indented block\n"
     ]
    }
   ],
   "source": [
    "card_nums = [\"1234-5678-8976\", \"1234-5674-7824\", \"1234-2263-1627-1572\", \"1628-2618-2739-2626\", \"2357-2792-2368-2387\", \"6754-8253-9999-1726\", \"1111-1111-1111-1111\", \"2222-2222-2222-2222\", \"3333-3333-3333-3333\", \"4444-4444-4444-4444\" \"5555-5555-5555-5555\"]\n",
    "pin_codes = [\"1234\", \"3456\", \"7890\", \"5678\", \"6782\", \"3467\", \"1111\", \"2222\", \"3333\", \"4444\", \"5555\"] \n",
    "ph_nos = [\"123456789\", \"238719075\", \"456782659\", \"987654323\", \"987678956\", \"567345857\", \"263764892\", \"456237019\", \"236790126\", \"12673496745\", \"129856739\"]\n",
    "balances = [20000, 786192, 47925638, 5674, 1009, 2575, 162975, 18976, 2796, 78654, 12999]\n",
    "\n",
    "import time\n",
    "\n",
    "def atm_project():\n",
    "    print(\"Welcome to Bank #1, \\nPlease enter the following details: \")\n",
    "    acc_number = input(\"\\nCredit/Debit card number: \")\n",
    "\n",
    "# unregistered acc/card number\n",
    "    if acc_number not in card_nums: \n",
    "        print(\"INVALID NUMBER\")\n",
    "        return\n",
    "\n",
    "i = card_nums.index(acc_number)\n",
    "trials = 3\n",
    "pin = input(\"Pin code: \")  \n",
    "\n",
    "# wrong pin code\n",
    "while pin != pin_codes[i] and trials > 0:\n",
    "    trials -= 1\n",
    "    if trials == 0:\n",
    "        print(\"\\nNOTICE: You have entered the wrong pin too many times. Your account will now be locked temporarily. Please contact the bank if this is a misunderstanding.\")\n",
    "        return\n",
    "    print(f\"\\nInvalid pin. You have {trials} trials left!\")\n",
    "    pin = input(\"Re-enter pin code: \")\n",
    "\n",
    "# pin code incorrect too many times\n",
    "\n",
    "\n",
    "# correct pin code and account number\n",
    "choice = int(input(\"\\nWhat would you like to do? \\n1. Deposit \\n2. Withdrawal \\n3. Check balance \\n4. Change pin code\\n\"))\n",
    "\n",
    "# various tasks depending on the choice\n",
    "if choice == 1:\n",
    "    dep = int(input(\"\\nHow much do you want to deposit?\"))\n",
    "    balances[i] += dep\n",
    "\n",
    "    time.sleep(0.4)\n",
    "    print(\"\\nprocessing...\")\n",
    "    time.sleep(1.8)\n",
    "\n",
    "    print(f\"\\nAmount successfully deposited! \\nYour current balance is {balances[i]}. \\nThank you for using our ATM.\\nHave a nice day!\")\n",
    "    return\n",
    "\n",
    "elif choice == 2:\n",
    "    withd = int(input(\"\\nHow much do you want to withdraw?\"))\n",
    "\n",
    "    while withd > balances[i]:\n",
    "        choice2 = int(input(\"Insufficient funds. \\nDo you want to cease the task or withdraw another amount? (Enter [1] for cease task or [2] for withdraw another ampunt): \"))            \n",
    "        if choice2 == 1: \n",
    "            print(\"The task is cancelled. \\nThank you for using Our ATM. \\nHave a nice day!\")\n",
    "            return\n",
    "        else: withd = int(input(\"\\nHow much do you want to withdraw?\"))\n",
    "\n",
    "    balances[i] -= withd\n",
    "\n",
    "    time.sleep(0.4)\n",
    "    print(\"\\nprocessing...\")\n",
    "    time.sleep(1.8)\n",
    "\n",
    "    print(f\"\\nAmount successfully withdrawn! \\nYour current balance is {balances[i]}. \\nThank you for using our ATM.\\nHave a nice day!\")\n",
    "    return\n",
    "\n",
    "elif choice == 3:\n",
    "    time.sleep(0.4)\n",
    "    print(\"\\nprocessing...\")\n",
    "    time.sleep(0.8)\n",
    "    print(f\"\\nYour current balance is {balances[i]}.\\nThank you for using our ATM.\\nHave a nice day!\")\n",
    "\n",
    "elif choice == 4:\n",
    "    temp = int(input(\"\\nEnter your new pin:\"))\n",
    "    check = int(input(\"\\nAre you sure you want to change your pin number to this? (1:yes or 0:no): \"))\n",
    "\n",
    "    if check == 0: \n",
    "        print(\"\\nTask successfully cancelled. \\nThank you for using our ATM.\\nHave a nice day!\")\n",
    "        return\n",
    "\n",
    "    pin_codes[i] = temp\n",
    "\n",
    "    time.sleep(0.2)\n",
    "    print(\"\\nprocessing...\")\n",
    "    time.sleep(1.8)\n",
    "    print(f\"\\nYour pin has successfully changed.\\nThank you for using our ATM.\\nHave a nice day!\")\n",
    "else: print(\"INVALID CHOICE.\")\n",
    "atm_project()"
   ]
  },
  {
   "cell_type": "code",
   "execution_count": 5,
   "id": "24332d95",
   "metadata": {},
   "outputs": [
    {
     "name": "stdout",
     "output_type": "stream",
     "text": [
      "([1, 2, 3], [4, 6, 7])\n"
     ]
    }
   ],
   "source": [
    "import numpy \n",
    "arr=([1,2,3],[4,6,7])\n",
    "print (arr)"
   ]
  },
  {
   "cell_type": "code",
   "execution_count": 2,
   "id": "69de7a09",
   "metadata": {},
   "outputs": [
    {
     "name": "stdout",
     "output_type": "stream",
     "text": [
      "Requirement already satisfied: numpy in c:\\users\\sunil reddy\\anaconda3\\lib\\site-packages (1.20.1)\n"
     ]
    }
   ],
   "source": [
    "!pip install numpy"
   ]
  },
  {
   "cell_type": "code",
   "execution_count": null,
   "id": "a166604f",
   "metadata": {},
   "outputs": [],
   "source": [
    "# these are some practice to know well abou loops..\n",
    "for i in range(2,10):\n",
    "        if(num%i)==0:\n",
    "            num=+1\n",
    "            break\n"
   ]
  },
  {
   "cell_type": "code",
   "execution_count": 2,
   "id": "6431547c",
   "metadata": {},
   "outputs": [],
   "source": [
    "for i in range(2,10):\n",
    "    num=0\n",
    "    if(num%i)==0:\n",
    "        num=+1\n",
    "        break\n",
    "if(num==0 & i != 1):\n",
    "    print(\"%d\")"
   ]
  },
  {
   "cell_type": "code",
   "execution_count": 28,
   "id": "984d5665",
   "metadata": {},
   "outputs": [
    {
     "name": "stdout",
     "output_type": "stream",
     "text": [
      "enter the number you want33\n",
      "0 tese r the divisibles of 3\n",
      "3 tese r the divisibles of 3\n",
      "6 tese r the divisibles of 3\n",
      "9 tese r the divisibles of 3\n",
      "12 tese r the divisibles of 3\n",
      "15 tese r the divisibles of 3\n",
      "18 tese r the divisibles of 3\n",
      "21 tese r the divisibles of 3\n",
      "24 tese r the divisibles of 3\n",
      "27 tese r the divisibles of 3\n",
      "30 tese r the divisibles of 3\n"
     ]
    }
   ],
   "source": [
    "n=int(input(\"enter the number you want\"))\n",
    "for i in range(n):\n",
    "    if i%3==0:\n",
    "        print( i, \"tese r the divisibles of 3\")"
   ]
  },
  {
   "cell_type": "code",
   "execution_count": 30,
   "id": "188416b5",
   "metadata": {},
   "outputs": [
    {
     "name": "stdout",
     "output_type": "stream",
     "text": [
      "enter the number you want66\n",
      "66\n",
      "1  it is not divisible of 3\n"
     ]
    }
   ],
   "source": [
    "n=int(input(\"enter the number you want\"))\n",
    "while(n%3==0):\n",
    "    print(n)\n",
    "    n=+1\n",
    "else:\n",
    "    print(n, \" it is not divisible of 3\")"
   ]
  },
  {
   "cell_type": "code",
   "execution_count": 3,
   "id": "f8c30528",
   "metadata": {},
   "outputs": [
    {
     "name": "stdout",
     "output_type": "stream",
     "text": [
      "1 sunil\n",
      "2 sunil\n",
      "3 sunil\n",
      "4 sunil\n",
      "5 sunil\n",
      "6 sunil\n",
      "7 sunil\n",
      "8 sunil\n",
      "9 sunil\n",
      "10 sunil\n",
      "11 sunil\n",
      "12 sunil\n",
      "13 sunil\n",
      "14 sunil\n",
      "15 sunil\n"
     ]
    }
   ],
   "source": [
    "for i in range (15):\n",
    "    print( i+1 ,\"sunil\")"
   ]
  },
  {
   "cell_type": "code",
   "execution_count": 1,
   "id": "7402524f",
   "metadata": {},
   "outputs": [
    {
     "name": "stdout",
     "output_type": "stream",
     "text": [
      "[(1, 3), (2, 6), (3, 1)]\n"
     ]
    }
   ],
   "source": [
    "a=[1,2,3,4]\n",
    "b={3:4,6:1,1:5}\n",
    "c=zip(a,b)\n",
    "d=list(c).copy()\n",
    "print(d)"
   ]
  },
  {
   "cell_type": "code",
   "execution_count": 2,
   "id": "cfc30358",
   "metadata": {},
   "outputs": [
    {
     "name": "stdout",
     "output_type": "stream",
     "text": [
      "('baz', 3)\n",
      "('bar', 2)\n",
      "('foo', 1)\n",
      "done\n"
     ]
    }
   ],
   "source": [
    "d={\"foo\":1,\"bar\":2,\"baz\":3}\n",
    "while d:\n",
    "    print(d.popitem())\n",
    "print(\"done\")"
   ]
  },
  {
   "cell_type": "code",
   "execution_count": null,
   "id": "c7b1d7ac",
   "metadata": {},
   "outputs": [],
   "source": []
  }
 ],
 "metadata": {
  "kernelspec": {
   "display_name": "Python 3",
   "language": "python",
   "name": "python3"
  },
  "language_info": {
   "codemirror_mode": {
    "name": "ipython",
    "version": 3
   },
   "file_extension": ".py",
   "mimetype": "text/x-python",
   "name": "python",
   "nbconvert_exporter": "python",
   "pygments_lexer": "ipython3",
   "version": "3.8.8"
  }
 },
 "nbformat": 4,
 "nbformat_minor": 5
}
